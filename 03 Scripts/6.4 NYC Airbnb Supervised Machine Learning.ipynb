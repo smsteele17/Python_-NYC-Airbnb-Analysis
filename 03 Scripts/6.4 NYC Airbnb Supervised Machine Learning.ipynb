{
 "cells": [
  {
   "cell_type": "markdown",
   "id": "553d8c99",
   "metadata": {},
   "source": [
    "# NYC Airbnb Supervised Machine Learning"
   ]
  },
  {
   "cell_type": "markdown",
   "id": "483fda48",
   "metadata": {},
   "source": [
    "## This script contains the following\n",
    "### 1. Importing Libraries and data\n",
    "### 2. Data Cleaning\n",
    "### 3. Data prep for Regression Analysis\n",
    "### 4. Regression Analysis\n",
    "### 5. Using a 2nd Variable for Regression Analysis\n",
    "### 6. Export Data"
   ]
  },
  {
   "cell_type": "markdown",
   "id": "5a642428",
   "metadata": {},
   "source": [
    "## 1. Import Librarise and Data"
   ]
  },
  {
   "cell_type": "code",
   "execution_count": 1,
   "id": "f52834c5",
   "metadata": {},
   "outputs": [],
   "source": [
    "import pandas as pd\n",
    "import numpy as np\n",
    "import seaborn as sns\n",
    "import matplotlib\n",
    "import matplotlib.pyplot as plt\n",
    "import os\n",
    "import sklearn\n",
    "from sklearn.model_selection import train_test_split\n",
    "from sklearn.linear_model import LinearRegression\n",
    "from sklearn.metrics import mean_squared_error, r2_score"
   ]
  },
  {
   "cell_type": "code",
   "execution_count": 4,
   "id": "44be6978",
   "metadata": {},
   "outputs": [],
   "source": [
    "#set path\n",
    "path = r'/Users/shelbysteele/Documents/Airbnb NYC Rental Analysis'"
   ]
  },
  {
   "cell_type": "code",
   "execution_count": 5,
   "id": "4aad6d1c",
   "metadata": {},
   "outputs": [],
   "source": [
    "#import data\n",
    "df = pd.read_csv(os.path.join(path, '02 Data','Prepared Data', 'NYC_cleaned_data2.csv'))"
   ]
  },
  {
   "cell_type": "code",
   "execution_count": 6,
   "id": "97a9abb6",
   "metadata": {},
   "outputs": [],
   "source": [
    "#enable graphs apprear without calling them\n",
    "%matplotlib inline"
   ]
  },
  {
   "cell_type": "markdown",
   "id": "b37699e4",
   "metadata": {},
   "source": [
    "## 2. Data Cleaning"
   ]
  },
  {
   "cell_type": "code",
   "execution_count": 7,
   "id": "257f5c23",
   "metadata": {},
   "outputs": [
    {
     "data": {
      "text/plain": [
       "Index(['Unnamed: 0.1', 'Unnamed: 0', 'host_identity_verified', 'borough',\n",
       "       'neighborhood', 'latitude', 'longitude', 'instant_bookable',\n",
       "       'cancellation_policy', 'room_type', 'construction_year', 'price',\n",
       "       'service_fee', 'minimum_nights', 'number_of_reviews', 'last_review',\n",
       "       'reviews_per_month', 'review_rate_number', 'listings_per_host',\n",
       "       'Days booked', 'fee_category', 'revenue'],\n",
       "      dtype='object')"
      ]
     },
     "execution_count": 7,
     "metadata": {},
     "output_type": "execute_result"
    }
   ],
   "source": [
    "df.columns"
   ]
  },
  {
   "cell_type": "code",
   "execution_count": 8,
   "id": "797d3967",
   "metadata": {},
   "outputs": [],
   "source": [
    "#drop Unnamed: 0 column\n",
    "df.drop(columns = {'Unnamed: 0.1', 'Unnamed: 0'}, inplace = True)"
   ]
  },
  {
   "cell_type": "code",
   "execution_count": 9,
   "id": "9a8e53ea",
   "metadata": {},
   "outputs": [
    {
     "data": {
      "text/plain": [
       "Index(['host_identity_verified', 'borough', 'neighborhood', 'latitude',\n",
       "       'longitude', 'instant_bookable', 'cancellation_policy', 'room_type',\n",
       "       'construction_year', 'price', 'service_fee', 'minimum_nights',\n",
       "       'number_of_reviews', 'last_review', 'reviews_per_month',\n",
       "       'review_rate_number', 'listings_per_host', 'Days booked',\n",
       "       'fee_category', 'revenue'],\n",
       "      dtype='object')"
      ]
     },
     "execution_count": 9,
     "metadata": {},
     "output_type": "execute_result"
    }
   ],
   "source": [
    "df.columns"
   ]
  },
  {
   "cell_type": "code",
   "execution_count": 10,
   "id": "8e77686e",
   "metadata": {},
   "outputs": [
    {
     "data": {
      "text/plain": [
       "host_identity_verified    0\n",
       "borough                   0\n",
       "neighborhood              0\n",
       "latitude                  0\n",
       "longitude                 0\n",
       "instant_bookable          0\n",
       "cancellation_policy       0\n",
       "room_type                 0\n",
       "construction_year         0\n",
       "price                     0\n",
       "service_fee               0\n",
       "minimum_nights            0\n",
       "number_of_reviews         0\n",
       "last_review               0\n",
       "reviews_per_month         0\n",
       "review_rate_number        0\n",
       "listings_per_host         0\n",
       "Days booked               0\n",
       "fee_category              0\n",
       "revenue                   0\n",
       "dtype: int64"
      ]
     },
     "execution_count": 10,
     "metadata": {},
     "output_type": "execute_result"
    }
   ],
   "source": [
    "#checking for missing values\n",
    "df.isnull().sum()"
   ]
  },
  {
   "cell_type": "code",
   "execution_count": 11,
   "id": "f097cd66",
   "metadata": {},
   "outputs": [],
   "source": [
    "#checking for duplicates\n",
    "dups = df.duplicated()"
   ]
  },
  {
   "cell_type": "code",
   "execution_count": 12,
   "id": "45b5a32f",
   "metadata": {},
   "outputs": [
    {
     "data": {
      "text/plain": [
       "(81563,)"
      ]
     },
     "execution_count": 12,
     "metadata": {},
     "output_type": "execute_result"
    }
   ],
   "source": [
    "#chekcing output\n",
    "dups.shape"
   ]
  },
  {
   "cell_type": "code",
   "execution_count": 16,
   "id": "38626ec9",
   "metadata": {},
   "outputs": [
    {
     "name": "stderr",
     "output_type": "stream",
     "text": [
      "/Users/shelbysteele/opt/anaconda3/lib/python3.9/site-packages/seaborn/distributions.py:2619: FutureWarning: `distplot` is a deprecated function and will be removed in a future version. Please adapt your code to use either `displot` (a figure-level function with similar flexibility) or `histplot` (an axes-level function for histograms).\n",
      "  warnings.warn(msg, FutureWarning)\n"
     ]
    },
    {
     "data": {
      "text/plain": [
       "<AxesSubplot:xlabel='Days booked', ylabel='Density'>"
      ]
     },
     "execution_count": 16,
     "metadata": {},
     "output_type": "execute_result"
    },
    {
     "data": {
      "image/png": "[encoded data removed]",
      "text/plain": [
       "<Figure size 432x288 with 1 Axes>"
      ]
     },
     "metadata": {
      "needs_background": "light"
     },
     "output_type": "display_data"
    }
   ],
   "source": [
    "#checking out extreme outliers\n",
    "sns.distplot(df['Days booked'], bins=25)"
   ]
  },
  {
   "cell_type": "code",
   "execution_count": 17,
   "id": "3792cbcb",
   "metadata": {},
   "outputs": [
    {
     "data": {
      "text/plain": [
       "<seaborn.axisgrid.FacetGrid at 0x7fa4f85a90d0>"
      ]
     },
     "execution_count": 17,
     "metadata": {},
     "output_type": "execute_result"
    },
    {
     "data": {
      "image/png": "[encoded data removed]",
      "text/plain": [
       "<Figure size 360x360 with 1 Axes>"
      ]
     },
     "metadata": {
      "needs_background": "light"
     },
     "output_type": "display_data"
    }
   ],
   "source": [
    "#creating a scatterplot with 'price' and 'service fee'\n",
    "sns.lmplot(x = 'price', y = 'service_fee', data = df)"
   ]
  },
  {
   "cell_type": "code",
   "execution_count": 18,
   "id": "c044da21",
   "metadata": {},
   "outputs": [
    {
     "data": {
      "text/plain": [
       "<seaborn.axisgrid.FacetGrid at 0x7fa52c2c09a0>"
      ]
     },
     "execution_count": 18,
     "metadata": {},
     "output_type": "execute_result"
    },
    {
     "data": {
      "image/png": "[encoded data removed]",
      "text/plain": [
       "<Figure size 360x360 with 1 Axes>"
      ]
     },
     "metadata": {
      "needs_background": "light"
     },
     "output_type": "display_data"
    }
   ],
   "source": [
    "#creating a scatterplot with 'reviews per month' and 'number of reviews'\n",
    "sns.lmplot(x = 'number_of_reviews', y = 'reviews_per_month', data = df)"
   ]
  },
  {
   "cell_type": "markdown",
   "id": "17e24496",
   "metadata": {},
   "source": [
    "## 3. Data Prep for Regression Analysis"
   ]
  },
  {
   "cell_type": "markdown",
   "id": "6928d94a",
   "metadata": {},
   "source": [
    "### Hypotheses to test\n",
    "##### If a rental has an increased price, than the service fee will also increase\n",
    "##### If a rental host has more listings, than it should lead to an increased rate of reviews"
   ]
  },
  {
   "cell_type": "code",
   "execution_count": 19,
   "id": "9a585919",
   "metadata": {},
   "outputs": [],
   "source": [
    "#reshape the varibles into NumPy arrays and put them into separate objects\n",
    "X = df['price'].values.reshape(-1,1)\n",
    "y = df['service_fee'].values.reshape(-1,1)"
   ]
  },
  {
   "cell_type": "code",
   "execution_count": 20,
   "id": "d41fbb65",
   "metadata": {},
   "outputs": [
    {
     "data": {
      "text/plain": [
       "array([[ 966.],\n",
       "       [ 142.],\n",
       "       [ 204.],\n",
       "       ...,\n",
       "       [ 982.],\n",
       "       [ 946.],\n",
       "       [1043.]])"
      ]
     },
     "execution_count": 20,
     "metadata": {},
     "output_type": "execute_result"
    }
   ],
   "source": [
    "#checking new array of X\n",
    "X"
   ]
  },
  {
   "cell_type": "code",
   "execution_count": 21,
   "id": "2bda89d7",
   "metadata": {},
   "outputs": [
    {
     "data": {
      "text/plain": [
       "array([[193.],\n",
       "       [ 28.],\n",
       "       [ 41.],\n",
       "       ...,\n",
       "       [196.],\n",
       "       [189.],\n",
       "       [209.]])"
      ]
     },
     "execution_count": 21,
     "metadata": {},
     "output_type": "execute_result"
    }
   ],
   "source": [
    "#checking new array of y\n",
    "y"
   ]
  },
  {
   "cell_type": "code",
   "execution_count": 22,
   "id": "e6ee3140",
   "metadata": {},
   "outputs": [],
   "source": [
    "#split data into training set and test set\n",
    "X_train, X_test, y_train, y_test = train_test_split(X, y, test_size=0.3, random_state=0)"
   ]
  },
  {
   "cell_type": "markdown",
   "id": "282958f7",
   "metadata": {},
   "source": [
    "## 4. Regression Analysis"
   ]
  },
  {
   "cell_type": "code",
   "execution_count": 23,
   "id": "350e86c3",
   "metadata": {},
   "outputs": [
    {
     "data": {
      "text/plain": [
       "LinearRegression()"
      ]
     },
     "execution_count": 23,
     "metadata": {},
     "output_type": "execute_result"
    }
   ],
   "source": [
    "#create a regression object to fit into the training set\n",
    "regression = LinearRegression()\n",
    "regression.fit(X_train, y_train)"
   ]
  },
  {
   "cell_type": "code",
   "execution_count": 24,
   "id": "3660e3a2",
   "metadata": {},
   "outputs": [],
   "source": [
    "#predict the values of y using X\n",
    "y_predicted = regression.predict(X_test)"
   ]
  },
  {
   "cell_type": "code",
   "execution_count": 25,
   "id": "781da119",
   "metadata": {},
   "outputs": [
    {
     "data": {
      "image/png": "[encoded data removed]",
      "text/plain": [
       "<Figure size 432x288 with 1 Axes>"
      ]
     },
     "metadata": {
      "needs_background": "light"
     },
     "output_type": "display_data"
    }
   ],
   "source": [
    "#create a plot that shows the regression line from the model on test set\n",
    "plot_test = plt\n",
    "plot_test.scatter(X_test, y_test, color='blue', s = 15)\n",
    "plot_test.plot(X_test, y_predicted, color='red', linewidth =3)\n",
    "plot_test.title('Price of Airbnb vs Service Fee (Test set)')\n",
    "plot_test.xlabel('Price')\n",
    "plot_test.ylabel('Service Fee')\n",
    "plot_test.show()"
   ]
  },
  {
   "cell_type": "code",
   "execution_count": 26,
   "id": "1f5a0f57",
   "metadata": {},
   "outputs": [],
   "source": [
    "#create objects that contain the model statistics\n",
    "rmse = mean_squared_error(y_test, y_predicted)\n",
    "r2 = r2_score(y_test, y_predicted)"
   ]
  },
  {
   "cell_type": "code",
   "execution_count": 27,
   "id": "70ac26e9",
   "metadata": {},
   "outputs": [
    {
     "name": "stdout",
     "output_type": "stream",
     "text": [
      "Slope: [[0.20000951]]\n",
      "Mean squared error:  0.07967949215117233\n",
      "R2 score:  0.9999818283417746\n"
     ]
    }
   ],
   "source": [
    "#print the model summary statistics to evaluate the performance of the model\n",
    "print('Slope:' ,regression.coef_)\n",
    "print('Mean squared error: ', rmse)\n",
    "print('R2 score: ', r2)"
   ]
  },
  {
   "cell_type": "markdown",
   "id": "c26966d4",
   "metadata": {},
   "source": [
    "1. The slope indicated a positive relationshipe between price and service_fee   meaning that as price increases, so does the fee\n",
    "2. The MSE is small meaning that the regression line is a good ft\n",
    "3. The R2 score is close to 1 which indicates a good fit"
   ]
  },
  {
   "cell_type": "code",
   "execution_count": 28,
   "id": "8b6da90a",
   "metadata": {},
   "outputs": [
    {
     "data": {
      "text/html": [
       "<div>\n",
       "<style scoped>\n",
       "    .dataframe tbody tr th:only-of-type {\n",
       "        vertical-align: middle;\n",
       "    }\n",
       "\n",
       "    .dataframe tbody tr th {\n",
       "        vertical-align: top;\n",
       "    }\n",
       "\n",
       "    .dataframe thead th {\n",
       "        text-align: right;\n",
       "    }\n",
       "</style>\n",
       "<table border=\"1\" class=\"dataframe\">\n",
       "  <thead>\n",
       "    <tr style=\"text-align: right;\">\n",
       "      <th></th>\n",
       "      <th>Actual</th>\n",
       "      <th>Predicted</th>\n",
       "    </tr>\n",
       "  </thead>\n",
       "  <tbody>\n",
       "    <tr>\n",
       "      <th>0</th>\n",
       "      <td>230.0</td>\n",
       "      <td>230.206069</td>\n",
       "    </tr>\n",
       "    <tr>\n",
       "      <th>1</th>\n",
       "      <td>31.0</td>\n",
       "      <td>31.196607</td>\n",
       "    </tr>\n",
       "    <tr>\n",
       "      <th>2</th>\n",
       "      <td>209.0</td>\n",
       "      <td>208.605042</td>\n",
       "    </tr>\n",
       "    <tr>\n",
       "      <th>3</th>\n",
       "      <td>166.0</td>\n",
       "      <td>166.403036</td>\n",
       "    </tr>\n",
       "    <tr>\n",
       "      <th>4</th>\n",
       "      <td>38.0</td>\n",
       "      <td>37.796921</td>\n",
       "    </tr>\n",
       "    <tr>\n",
       "      <th>5</th>\n",
       "      <td>23.0</td>\n",
       "      <td>23.196227</td>\n",
       "    </tr>\n",
       "    <tr>\n",
       "      <th>6</th>\n",
       "      <td>142.0</td>\n",
       "      <td>142.201885</td>\n",
       "    </tr>\n",
       "    <tr>\n",
       "      <th>7</th>\n",
       "      <td>76.0</td>\n",
       "      <td>75.798728</td>\n",
       "    </tr>\n",
       "    <tr>\n",
       "      <th>8</th>\n",
       "      <td>151.0</td>\n",
       "      <td>151.202313</td>\n",
       "    </tr>\n",
       "    <tr>\n",
       "      <th>9</th>\n",
       "      <td>180.0</td>\n",
       "      <td>180.203692</td>\n",
       "    </tr>\n",
       "    <tr>\n",
       "      <th>10</th>\n",
       "      <td>172.0</td>\n",
       "      <td>172.203311</td>\n",
       "    </tr>\n",
       "    <tr>\n",
       "      <th>11</th>\n",
       "      <td>63.0</td>\n",
       "      <td>63.398138</td>\n",
       "    </tr>\n",
       "    <tr>\n",
       "      <th>12</th>\n",
       "      <td>175.0</td>\n",
       "      <td>175.003444</td>\n",
       "    </tr>\n",
       "    <tr>\n",
       "      <th>13</th>\n",
       "      <td>19.0</td>\n",
       "      <td>18.796018</td>\n",
       "    </tr>\n",
       "    <tr>\n",
       "      <th>14</th>\n",
       "      <td>30.0</td>\n",
       "      <td>29.996550</td>\n",
       "    </tr>\n",
       "    <tr>\n",
       "      <th>15</th>\n",
       "      <td>229.0</td>\n",
       "      <td>229.206021</td>\n",
       "    </tr>\n",
       "    <tr>\n",
       "      <th>16</th>\n",
       "      <td>231.0</td>\n",
       "      <td>231.006107</td>\n",
       "    </tr>\n",
       "    <tr>\n",
       "      <th>17</th>\n",
       "      <td>171.0</td>\n",
       "      <td>171.203264</td>\n",
       "    </tr>\n",
       "    <tr>\n",
       "      <th>18</th>\n",
       "      <td>92.0</td>\n",
       "      <td>91.999498</td>\n",
       "    </tr>\n",
       "    <tr>\n",
       "      <th>19</th>\n",
       "      <td>218.0</td>\n",
       "      <td>218.205498</td>\n",
       "    </tr>\n",
       "    <tr>\n",
       "      <th>20</th>\n",
       "      <td>55.0</td>\n",
       "      <td>55.197749</td>\n",
       "    </tr>\n",
       "    <tr>\n",
       "      <th>21</th>\n",
       "      <td>10.0</td>\n",
       "      <td>9.995600</td>\n",
       "    </tr>\n",
       "    <tr>\n",
       "      <th>22</th>\n",
       "      <td>204.0</td>\n",
       "      <td>203.604804</td>\n",
       "    </tr>\n",
       "    <tr>\n",
       "      <th>23</th>\n",
       "      <td>72.0</td>\n",
       "      <td>71.798538</td>\n",
       "    </tr>\n",
       "    <tr>\n",
       "      <th>24</th>\n",
       "      <td>109.0</td>\n",
       "      <td>109.000306</td>\n",
       "    </tr>\n",
       "    <tr>\n",
       "      <th>25</th>\n",
       "      <td>104.0</td>\n",
       "      <td>104.400088</td>\n",
       "    </tr>\n",
       "    <tr>\n",
       "      <th>26</th>\n",
       "      <td>64.0</td>\n",
       "      <td>64.198176</td>\n",
       "    </tr>\n",
       "    <tr>\n",
       "      <th>27</th>\n",
       "      <td>85.0</td>\n",
       "      <td>85.199175</td>\n",
       "    </tr>\n",
       "    <tr>\n",
       "      <th>28</th>\n",
       "      <td>236.0</td>\n",
       "      <td>236.006345</td>\n",
       "    </tr>\n",
       "    <tr>\n",
       "      <th>29</th>\n",
       "      <td>31.0</td>\n",
       "      <td>30.596579</td>\n",
       "    </tr>\n",
       "  </tbody>\n",
       "</table>\n",
       "</div>"
      ],
      "text/plain": [
       "    Actual   Predicted\n",
       "0    230.0  230.206069\n",
       "1     31.0   31.196607\n",
       "2    209.0  208.605042\n",
       "3    166.0  166.403036\n",
       "4     38.0   37.796921\n",
       "5     23.0   23.196227\n",
       "6    142.0  142.201885\n",
       "7     76.0   75.798728\n",
       "8    151.0  151.202313\n",
       "9    180.0  180.203692\n",
       "10   172.0  172.203311\n",
       "11    63.0   63.398138\n",
       "12   175.0  175.003444\n",
       "13    19.0   18.796018\n",
       "14    30.0   29.996550\n",
       "15   229.0  229.206021\n",
       "16   231.0  231.006107\n",
       "17   171.0  171.203264\n",
       "18    92.0   91.999498\n",
       "19   218.0  218.205498\n",
       "20    55.0   55.197749\n",
       "21    10.0    9.995600\n",
       "22   204.0  203.604804\n",
       "23    72.0   71.798538\n",
       "24   109.0  109.000306\n",
       "25   104.0  104.400088\n",
       "26    64.0   64.198176\n",
       "27    85.0   85.199175\n",
       "28   236.0  236.006345\n",
       "29    31.0   30.596579"
      ]
     },
     "execution_count": 28,
     "metadata": {},
     "output_type": "execute_result"
    }
   ],
   "source": [
    "#create a dataframe comparing the actual and predicted values\n",
    "data = pd.DataFrame({'Actual': y_test.flatten(), 'Predicted': y_predicted.flatten()})\n",
    "data.head(30)"
   ]
  },
  {
   "cell_type": "markdown",
   "id": "cfbe7548",
   "metadata": {},
   "source": [
    "The model overall is a good predictor is service_fee and price. Since there were no extremem values removed from the dataset, there is minimal bias programmed into the model"
   ]
  },
  {
   "cell_type": "markdown",
   "id": "ec7029e5",
   "metadata": {},
   "source": [
    "## Using a 2nd Variable for Regression Analysis "
   ]
  },
  {
   "cell_type": "code",
   "execution_count": 87,
   "id": "184b51b6",
   "metadata": {},
   "outputs": [],
   "source": [
    "#reshape the varibles into NumPy arrays and put them into separate objects\n",
    "X_2 = df['listings_per_host'].values.reshape(-1,1)\n",
    "y_2 = df['number_of_reviews'].values.reshape(-1,1)"
   ]
  },
  {
   "cell_type": "code",
   "execution_count": 88,
   "id": "b6493ebf",
   "metadata": {},
   "outputs": [],
   "source": [
    "#split data into training set and test set\n",
    "X_train_2, X_test_2, y_train_2, y_test_2 = train_test_split(X_2, y_2, test_size=0.3, random_state=0)"
   ]
  },
  {
   "cell_type": "code",
   "execution_count": 89,
   "id": "96a2ec4d",
   "metadata": {},
   "outputs": [
    {
     "data": {
      "text/plain": [
       "LinearRegression()"
      ]
     },
     "execution_count": 89,
     "metadata": {},
     "output_type": "execute_result"
    }
   ],
   "source": [
    "#create a regression object to fit into the training set\n",
    "regression = LinearRegression()\n",
    "regression.fit(X_train_2, y_train_2)"
   ]
  },
  {
   "cell_type": "code",
   "execution_count": 90,
   "id": "98fabd41",
   "metadata": {},
   "outputs": [],
   "source": [
    "#predict the values of y using X\n",
    "y_predicted_2 = regression.predict(X_test_2)"
   ]
  },
  {
   "cell_type": "code",
   "execution_count": 91,
   "id": "6adbe548",
   "metadata": {},
   "outputs": [
    {
     "data": {
      "image/png": "[encoded data removed]",
      "text/plain": [
       "<Figure size 432x288 with 1 Axes>"
      ]
     },
     "metadata": {
      "needs_background": "light"
     },
     "output_type": "display_data"
    }
   ],
   "source": [
    "#create a plot that shows the regression line from the model on test set\n",
    "plot_test = plt\n",
    "plot_test.scatter(X_test_2, y_test_2, color='blue', s = 15)\n",
    "plot_test.plot(X_test, y_predicted, color='red', linewidth =3)\n",
    "plot_test.title('Listings Per Host vs Number of Reivews (Test set)')\n",
    "plot_test.xlabel('Listings per Host')\n",
    "plot_test.ylabel('Number of Reviews')\n",
    "plot_test.show()"
   ]
  },
  {
   "cell_type": "code",
   "execution_count": 79,
   "id": "79770422",
   "metadata": {},
   "outputs": [],
   "source": [
    "#create objects that contain the model statistics\n",
    "rmse = mean_squared_error(y_test, y_predicted)\n",
    "r2 = r2_score(y_test, y_predicted)"
   ]
  },
  {
   "cell_type": "code",
   "execution_count": 80,
   "id": "31de0fda",
   "metadata": {},
   "outputs": [
    {
     "name": "stdout",
     "output_type": "stream",
     "text": [
      "Slope: [[-0.14540237]]\n",
      "Mean squared error:  22111.265063602714\n",
      "R2 score:  -0.25706874701610904\n"
     ]
    }
   ],
   "source": [
    "#print the model summary statistics to evaluate the performance of the model\n",
    "print('Slope:' ,regression.coef_)\n",
    "print('Mean squared error: ', rmse)\n",
    "print('R2 score: ', r2)"
   ]
  },
  {
   "cell_type": "markdown",
   "id": "b6d76f21",
   "metadata": {},
   "source": [
    "1. The slope indicated a negative relationshipe between listings per host and reviews\n",
    "2. The MSE is large meaning that the regression line is not a good fit\n",
    "3. The R2 score is close to o which indicates a bad fit"
   ]
  },
  {
   "cell_type": "code",
   "execution_count": 81,
   "id": "d188ff68",
   "metadata": {},
   "outputs": [
    {
     "data": {
      "text/html": [
       "<div>\n",
       "<style scoped>\n",
       "    .dataframe tbody tr th:only-of-type {\n",
       "        vertical-align: middle;\n",
       "    }\n",
       "\n",
       "    .dataframe tbody tr th {\n",
       "        vertical-align: top;\n",
       "    }\n",
       "\n",
       "    .dataframe thead th {\n",
       "        text-align: right;\n",
       "    }\n",
       "</style>\n",
       "<table border=\"1\" class=\"dataframe\">\n",
       "  <thead>\n",
       "    <tr style=\"text-align: right;\">\n",
       "      <th></th>\n",
       "      <th>Actual</th>\n",
       "      <th>Predicted</th>\n",
       "    </tr>\n",
       "  </thead>\n",
       "  <tbody>\n",
       "    <tr>\n",
       "      <th>0</th>\n",
       "      <td>331.0</td>\n",
       "      <td>230.206069</td>\n",
       "    </tr>\n",
       "    <tr>\n",
       "      <th>1</th>\n",
       "      <td>73.0</td>\n",
       "      <td>31.196607</td>\n",
       "    </tr>\n",
       "    <tr>\n",
       "      <th>2</th>\n",
       "      <td>179.0</td>\n",
       "      <td>208.605042</td>\n",
       "    </tr>\n",
       "    <tr>\n",
       "      <th>3</th>\n",
       "      <td>298.0</td>\n",
       "      <td>166.403036</td>\n",
       "    </tr>\n",
       "    <tr>\n",
       "      <th>4</th>\n",
       "      <td>110.0</td>\n",
       "      <td>37.796921</td>\n",
       "    </tr>\n",
       "    <tr>\n",
       "      <th>5</th>\n",
       "      <td>24.0</td>\n",
       "      <td>23.196227</td>\n",
       "    </tr>\n",
       "    <tr>\n",
       "      <th>6</th>\n",
       "      <td>365.0</td>\n",
       "      <td>142.201885</td>\n",
       "    </tr>\n",
       "    <tr>\n",
       "      <th>7</th>\n",
       "      <td>179.0</td>\n",
       "      <td>75.798728</td>\n",
       "    </tr>\n",
       "    <tr>\n",
       "      <th>8</th>\n",
       "      <td>273.0</td>\n",
       "      <td>151.202313</td>\n",
       "    </tr>\n",
       "    <tr>\n",
       "      <th>9</th>\n",
       "      <td>365.0</td>\n",
       "      <td>180.203692</td>\n",
       "    </tr>\n",
       "    <tr>\n",
       "      <th>10</th>\n",
       "      <td>112.0</td>\n",
       "      <td>172.203311</td>\n",
       "    </tr>\n",
       "    <tr>\n",
       "      <th>11</th>\n",
       "      <td>64.0</td>\n",
       "      <td>63.398138</td>\n",
       "    </tr>\n",
       "    <tr>\n",
       "      <th>12</th>\n",
       "      <td>352.0</td>\n",
       "      <td>175.003444</td>\n",
       "    </tr>\n",
       "    <tr>\n",
       "      <th>13</th>\n",
       "      <td>9.0</td>\n",
       "      <td>18.796018</td>\n",
       "    </tr>\n",
       "    <tr>\n",
       "      <th>14</th>\n",
       "      <td>49.0</td>\n",
       "      <td>29.996550</td>\n",
       "    </tr>\n",
       "    <tr>\n",
       "      <th>15</th>\n",
       "      <td>315.0</td>\n",
       "      <td>229.206021</td>\n",
       "    </tr>\n",
       "    <tr>\n",
       "      <th>16</th>\n",
       "      <td>197.0</td>\n",
       "      <td>231.006107</td>\n",
       "    </tr>\n",
       "    <tr>\n",
       "      <th>17</th>\n",
       "      <td>96.0</td>\n",
       "      <td>171.203264</td>\n",
       "    </tr>\n",
       "    <tr>\n",
       "      <th>18</th>\n",
       "      <td>0.0</td>\n",
       "      <td>91.999498</td>\n",
       "    </tr>\n",
       "    <tr>\n",
       "      <th>19</th>\n",
       "      <td>47.0</td>\n",
       "      <td>218.205498</td>\n",
       "    </tr>\n",
       "    <tr>\n",
       "      <th>20</th>\n",
       "      <td>4.0</td>\n",
       "      <td>55.197749</td>\n",
       "    </tr>\n",
       "    <tr>\n",
       "      <th>21</th>\n",
       "      <td>358.0</td>\n",
       "      <td>9.995600</td>\n",
       "    </tr>\n",
       "    <tr>\n",
       "      <th>22</th>\n",
       "      <td>68.0</td>\n",
       "      <td>203.604804</td>\n",
       "    </tr>\n",
       "    <tr>\n",
       "      <th>23</th>\n",
       "      <td>320.0</td>\n",
       "      <td>71.798538</td>\n",
       "    </tr>\n",
       "    <tr>\n",
       "      <th>24</th>\n",
       "      <td>85.0</td>\n",
       "      <td>109.000306</td>\n",
       "    </tr>\n",
       "    <tr>\n",
       "      <th>25</th>\n",
       "      <td>166.0</td>\n",
       "      <td>104.400088</td>\n",
       "    </tr>\n",
       "    <tr>\n",
       "      <th>26</th>\n",
       "      <td>152.0</td>\n",
       "      <td>64.198176</td>\n",
       "    </tr>\n",
       "    <tr>\n",
       "      <th>27</th>\n",
       "      <td>319.0</td>\n",
       "      <td>85.199175</td>\n",
       "    </tr>\n",
       "    <tr>\n",
       "      <th>28</th>\n",
       "      <td>0.0</td>\n",
       "      <td>236.006345</td>\n",
       "    </tr>\n",
       "    <tr>\n",
       "      <th>29</th>\n",
       "      <td>0.0</td>\n",
       "      <td>30.596579</td>\n",
       "    </tr>\n",
       "  </tbody>\n",
       "</table>\n",
       "</div>"
      ],
      "text/plain": [
       "    Actual   Predicted\n",
       "0    331.0  230.206069\n",
       "1     73.0   31.196607\n",
       "2    179.0  208.605042\n",
       "3    298.0  166.403036\n",
       "4    110.0   37.796921\n",
       "5     24.0   23.196227\n",
       "6    365.0  142.201885\n",
       "7    179.0   75.798728\n",
       "8    273.0  151.202313\n",
       "9    365.0  180.203692\n",
       "10   112.0  172.203311\n",
       "11    64.0   63.398138\n",
       "12   352.0  175.003444\n",
       "13     9.0   18.796018\n",
       "14    49.0   29.996550\n",
       "15   315.0  229.206021\n",
       "16   197.0  231.006107\n",
       "17    96.0  171.203264\n",
       "18     0.0   91.999498\n",
       "19    47.0  218.205498\n",
       "20     4.0   55.197749\n",
       "21   358.0    9.995600\n",
       "22    68.0  203.604804\n",
       "23   320.0   71.798538\n",
       "24    85.0  109.000306\n",
       "25   166.0  104.400088\n",
       "26   152.0   64.198176\n",
       "27   319.0   85.199175\n",
       "28     0.0  236.006345\n",
       "29     0.0   30.596579"
      ]
     },
     "execution_count": 81,
     "metadata": {},
     "output_type": "execute_result"
    }
   ],
   "source": [
    "#create a dataframe comparing the actual and predicted values\n",
    "data = pd.DataFrame({'Actual': y_test.flatten(), 'Predicted': y_predicted.flatten()})\n",
    "data.head(30)"
   ]
  },
  {
   "cell_type": "markdown",
   "id": "d42bfb7b",
   "metadata": {},
   "source": [
    "The model overall is not a predictor of number of reviews if a host has multiple properties. Since there were no extremem values removed from the dataset, there is minimal bias programmed into the model"
   ]
  },
  {
   "cell_type": "markdown",
   "id": "459bed4c",
   "metadata": {},
   "source": [
    "## 6. Exporting Data"
   ]
  },
  {
   "cell_type": "code",
   "execution_count": 92,
   "id": "9127e401",
   "metadata": {},
   "outputs": [],
   "source": [
    "#exporting data\n",
    "df.to_csv(os.path.join(path, '02 Data','Prepared Data', 'NYC_cleaned_data2.csv'))"
   ]
  },
  {
   "cell_type": "code",
   "execution_count": null,
   "id": "66a2ea99",
   "metadata": {},
   "outputs": [],
   "source": []
  }
 ],
 "metadata": {
  "kernelspec": {
   "display_name": "Python 3 (ipykernel)",
   "language": "python",
   "name": "python3"
  },
  "language_info": {
   "codemirror_mode": {
    "name": "ipython",
    "version": 3
   },
   "file_extension": ".py",
   "mimetype": "text/x-python",
   "name": "python",
   "nbconvert_exporter": "python",
   "pygments_lexer": "ipython3",
   "version": "3.9.12"
  }
 },
 "nbformat": 4,
 "nbformat_minor": 5
}
